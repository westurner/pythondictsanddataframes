{
 "cells": [
  {
   "cell_type": "markdown",
   "metadata": {},
   "source": [
    "# Dicts and DataFrames"
   ]
  },
  {
   "cell_type": "markdown",
   "metadata": {},
   "source": [
    "## Question / Problem / Challenge\n",
    "Question: Now that dicts are insertion-ordered (since Python 3.6), can we lookup items by integer-location?\n",
    "- As of CPython 3.10: No; the public Python `dict` API neither:\n",
    "  - (1) offers any method to access keys, values, or items by integer-location; nor\n",
    "  - (2) exposes anything from the underlying C code like `dict._array` which could be used for such a method. `dict._array` would be considered an implementation detail that could be different in Python versions and implementations\n",
    "\n",
    "How could lookup of `dict` keys, values, and items *by integer-location* be implemented?\n",
    "    - This is the subject of this document."
   ]
  },
  {
   "cell_type": "markdown",
   "metadata": {},
   "source": [
    "## Background\n",
    "- The CPython dict is an insertion-ordered Hashmap:  \n",
    "  https://docs.python.org/3/library/stdtypes.html#mapping-types-dict\n",
    "  - https://github.com/python/cpython/blob/master/Objects/dictobject.c\n",
    "  - https://github.com/python/cpython/blob/master/Objects/odictobject.c\n",
    "- The Pandas Series and DataFrames are insertion-ordered columnar data structures  \n",
    "  - https://pandas.pydata.org/pandas-docs/stable/reference/series.html  \n",
    "    - https://pandas.pydata.org/pandas-docs/stable/reference/api/pandas.Series.html#pandas.Series \n",
    "    - https://github.com/pandas-dev/pandas/blob/master/pandas/core/series.py\n",
    "  - https://pandas.pydata.org/pandas-docs/stable/reference/frame.html  \n",
    "    - https://pandas.pydata.org/pandas-docs/stable/reference/api/pandas.DataFrame.html  \n",
    "    - https://github.com/pandas-dev/pandas/blob/master/pandas/core/frame.py"
   ]
  },
  {
   "cell_type": "code",
   "execution_count": 25,
   "metadata": {},
   "outputs": [],
   "source": [
    "import itertools\n",
    "import pandas as pd\n",
    "import pytest\n",
    "import random\n",
    "try:\n",
    "    display  # IPython\n",
    "except NameError:\n",
    "    def display(*args): print(args)\n",
    "pd.set_option('display.notebook_repr_html', False)"
   ]
  },
  {
   "cell_type": "markdown",
   "metadata": {},
   "source": [
    "### CPython dict basics"
   ]
  },
  {
   "cell_type": "code",
   "execution_count": 2,
   "metadata": {},
   "outputs": [
    {
     "data": {
      "text/plain": [
       "{'a': 'A', 'b': 'B', 'c': 'C', 'd': 'D'}"
      ]
     },
     "metadata": {},
     "output_type": "display_data"
    }
   ],
   "source": [
    "odict = {'a':'A', 'b':'B', 'c':'C', 'd': 'D'}\n",
    "odict = dict(a='A', b='B', c='C', d='D')\n",
    "odict = dict((x, x.upper()) for x in 'abcd')  # list comprehension\n",
    "odict = {x:x.upper() for x in 'abcd'}         # dict comprehension\n",
    "odict = dict.fromkeys('abcd')\n",
    "[odict.__setitem__(x, x.upper()) for x in 'abcd']\n",
    "display(odict)\n",
    "assert list(odict.keys()) == list('abcd') == ['a', 'b', 'c', 'd']\n",
    "assert random.seed(1) or list(odict.keys()) == random.seed(2**10) or list(odict.keys())\n",
    "assert list(odict.values()) == list('ABCD')\n",
    "assert list(odict.items()) == [('a', 'A'), ('b', 'B'), ('c', 'C'), ('d', 'D')]"
   ]
  },
  {
   "cell_type": "markdown",
   "metadata": {},
   "source": [
    "`itertools.islice(dict.items())` is suboptimal for a number of cases because we don't need to iterate through the items at the beginning: we could directly address the underlying array."
   ]
  },
  {
   "cell_type": "code",
   "execution_count": 3,
   "metadata": {},
   "outputs": [],
   "source": [
    "\n",
    "# This would not call next() unnecessarily:\n",
    "with pytest.raises(AttributeError): # 'dict' object has no attribute '_array'\n",
    "    odict._array[3]   # _array[3]"
   ]
  },
  {
   "cell_type": "markdown",
   "metadata": {},
   "source": [
    "## Possible Solutions"
   ]
  },
  {
   "cell_type": "markdown",
   "metadata": {},
   "source": [
    "### No changes to CPython"
   ]
  },
  {
   "cell_type": "markdown",
   "metadata": {},
   "source": [
    "#### Make an unnecessary copy of the whole dict in order to only take(3)"
   ]
  },
  {
   "cell_type": "code",
   "execution_count": 4,
   "metadata": {},
   "outputs": [],
   "source": [
    "assert list(odict.items())[3] == ('d', 'D')"
   ]
  },
  {
   "cell_type": "markdown",
   "metadata": {},
   "source": [
    "#### Call `itertools.islice(dict.items())`\n",
    "- Does this call `next()`, `next()`, `next()`, `next()` unnecessarily?\n",
    "- `itertools.islice(dict.items())` is suboptimal for a number of cases because we don't need to iterate through the items at the beginning. Directly addressing the underlying array would be much faster but unlikely to happen because the underlying array is an implementation detail."
   ]
  },
  {
   "cell_type": "code",
   "execution_count": 5,
   "metadata": {},
   "outputs": [
    {
     "data": {
      "text/plain": [
       "[]"
      ]
     },
     "execution_count": 5,
     "metadata": {},
     "output_type": "execute_result"
    }
   ],
   "source": [
    "list(itertools.islice(odict.items(), 0))"
   ]
  },
  {
   "cell_type": "code",
   "execution_count": 6,
   "metadata": {},
   "outputs": [
    {
     "data": {
      "text/plain": [
       "[('a', 'A'), ('b', 'B'), ('c', 'C')]"
      ]
     },
     "execution_count": 6,
     "metadata": {},
     "output_type": "execute_result"
    }
   ],
   "source": [
    "list(itertools.islice(odict.items(), 3))"
   ]
  },
  {
   "cell_type": "code",
   "execution_count": 7,
   "metadata": {},
   "outputs": [
    {
     "data": {
      "text/plain": [
       "[('d', 'D')]"
      ]
     },
     "execution_count": 7,
     "metadata": {},
     "output_type": "execute_result"
    }
   ],
   "source": [
    "list(itertools.islice(odict.items(), 3, 3+1))"
   ]
  },
  {
   "cell_type": "markdown",
   "metadata": {},
   "source": [
    "### Change CPython"
   ]
  },
  {
   "cell_type": "markdown",
   "metadata": {},
   "source": [
    "#### Expose something like `dict._array`\n",
    "- Again, the underlying array is a \\[CPython,] implementation detail\n",
    "- So, there must be methods that provide access to the [(key, item),] data that hide the implementation details."
   ]
  },
  {
   "cell_type": "markdown",
   "metadata": {},
   "source": [
    "#### Overload `dict.__getitem__` (`dict[]`)\n",
    "\n",
    "`dict[]` (`dict.__getitem__`) is already used for lookup by key value, so `dict[3]` could either be lookup by value or lookup by integer-location: which would be dangerously abiguous at runtime and frustratingly vague to review. (See also the note below regarding the fate of the Pandas `.ix.__getitem__` method)."
   ]
  },
  {
   "cell_type": "markdown",
   "metadata": {},
   "source": [
    "#### Make all iterators subscriptable: define `iterator.__getitem__`\n",
    "\n",
    "`dict.items()[3]` fails with a `TypeError: 'dict_items' object is not subscriptable`:`dict.items()` returns a view (instead of an unnecessarily copied list like in Python 2) which is not subscriptable.\n",
    "\n",
    "Could we define `iterator.__getitem__` such that:\n",
    "\n",
    "```python\n",
    "obj = list('abcd')\n",
    "iter(obj)[3] => islice(obj, 3, 3+1)\n",
    "iter(obj)[3:4] => islice(obj, 3, 4)\n",
    "iter(obj)[0:4:2] => islice(obj, 1, 4, 2)\n",
    "```\n",
    "\n",
    "- This would require a change to the python grammar.\n",
    "- This would result in implicit iteration/traversal, which may be destructive and opaquely resource-prohibitive.\n",
    "- This would not break existing code."
   ]
  },
  {
   "cell_type": "markdown",
   "metadata": {},
   "source": [
    "#### Add `dict.getkey(index)` and `dict.getitem(index)`\n",
    "```python\n",
    "def getkey(self: dict, index: int):\n",
    "    pass\n",
    "\n",
    "def getitem(self: dict, index: int):\n",
    "    pass\n",
    "```\n",
    "\n",
    "- This does not support slices\n",
    "- This still has to unnecessarily iterate with `islice` without something like `dict._array`"
   ]
  },
  {
   "cell_type": "markdown",
   "metadata": {},
   "source": [
    "#### Make `dict.keys()`, `dict.values()`, and `dict.items()` subscriptable\n",
    "\n",
    "```python\n",
    "obj = dict.fromkeys('abcd')\n",
    "obj.keys()[3] => next(islice(obj, 3))\n",
    "```\n",
    "\n",
    "- This would require a change to the python grammar.\n",
    "- This would be a special case; and then we'd all be asking for subscriptable iterators, too.\n",
    "- This would not break existing code."
   ]
  },
  {
   "cell_type": "code",
   "execution_count": 8,
   "metadata": {},
   "outputs": [],
   "source": [
    "# iterator[3] does not call islice(iterator, 3):\n",
    "with pytest.raises(TypeError): # 'dict_keys' object is not subscriptable\n",
    "    odict.keys()[3]\n",
    "with pytest.raises(TypeError): # 'dict_values' object is not subscriptable\n",
    "    odict.values()[3]\n",
    "with pytest.raises(TypeError): # 'dict_items' object is not subscriptable\n",
    "    odict.items()[3]"
   ]
  },
  {
   "cell_type": "markdown",
   "metadata": {},
   "source": [
    "#### Define `dict.keys.__getitem__` and handle slices\n",
    "\n",
    "```python\n",
    "obj = dict.fromkeys('abcd')\n",
    "obj.keys[3] => obj._array[3]\n",
    "```\n",
    "\n",
    "- This would be backward incompatible because `dict.keys()` is a method and not a property.\n",
    "  To not break all existing code, it would have to be:\n",
    "  ```python\n",
    "  obj = dict.fromkeys('abcd')\n",
    "  obj.keys()[3] => obj._array[3]\n",
    "  ```\n",
    "  \n",
    "  Which brings us back to the previous question.\n",
    "- Would this be confusing to newcomers? Why don't other iterators work that way?"
   ]
  },
  {
   "cell_type": "markdown",
   "metadata": {},
   "source": [
    "#### Copy the Pandas Series / DataFrame `.iloc` API?"
   ]
  },
  {
   "cell_type": "markdown",
   "metadata": {},
   "source": [
    "##### How is the Pandas DataFrame API at all relevant to dicts?\n",
    "- Pandas DataFrames (and Series, which have an index and one column; more like dicts) support key/value lookup just like dicts\n",
    "- IIUC, OP is asking for lookup by integer-location; which is supported by `DataFrame.iloc` (and `Series.iloc`)\n",
    "- Pandas already handles the presented use cases with an `.iloc` method that handles slices and tuples (and callables).\n",
    "  - Pandas [used to have `.ix`](https://pandas.pydata.org/pandas-docs/version/0.23.4/generated/pandas.DataFrame.ix.html), which was:\n",
    "    > A primarily label-location based indexer, with integer position fallback.\n",
    "    > \n",
    "    > Warning: Starting in 0.20.0, the .ix indexer is deprecated, in favor of the more strict .iloc and .loc indexers.\n",
    "- The Pandas API is now also implemented by Dask, Modin, CuDF.\n",
    "  It may be the most widely-used DataFrame API.\n",
    "- Granted, a DataFrame is not the same as an OrderedHashmap; because we often find that data is multi-columnar and we usually don't want to have to `lookup`/`seek()` to the n-th field of each hashmap value.\n",
    "  But we do want indexed data with fast sequential reads and the option to return one or more items by integer-location."
   ]
  },
  {
   "cell_type": "markdown",
   "metadata": {},
   "source": [
    "##### Add an `.iloc` property with a `__getitem__` to `dict` that returns just the key (slice) or the `(key, item)` (slice)\n",
    "```python\n",
    "obj = dict.fromkeys('abcd')\n",
    "obj.iloc[3] => obj._array[3][0]  # key-only? or\n",
    "obj.iloc[3] => obj._array[3]     # (key, item)?\n",
    "```"
   ]
  },
  {
   "cell_type": "markdown",
   "metadata": {},
   "source": [
    "##### Add an `.iloc` property to the `.keys`, `.values`, and `.items` methods?\n",
    "\n",
    "```python\n",
    "obj.keys.iloc[3] => obj._array[3][0]\n",
    "obj.values.iloc[3] => obj._array[3][1]\n",
    "obj.items.iloc[3] => obj._array[3]\n",
    "```\n",
    "\n",
    "- Is there any precedent for adding a property to a method in the CPython standard library?\n",
    "- It can be done with *slow* init-time binding and/or metaclassery.\n",
    "  - See: `IlocIndexer` below"
   ]
  },
  {
   "cell_type": "markdown",
   "metadata": {},
   "source": [
    "#### Add `.keys_iloc()`, `.values_iloc()`, and `.items_iloc()` to `dict`\n",
    "\n",
    "- Does not require binding `IlocIndexer` to `.keys.iloc`, `.values.iloc`, and `.items.iloc` at `dict.__init__` time or metaclassery.\n",
    "- Supports slices"
   ]
  },
  {
   "cell_type": "code",
   "execution_count": 9,
   "metadata": {},
   "outputs": [],
   "source": [
    "def _dict_view_islice(iterable, start: int=None, stop: int=None, step: int=None):\n",
    "    # This implementation calls islice()\n",
    "    # which, AFAIU, calls next() a bunch of times unnecessarily\n",
    "    _slice = slice(start, stop, step) if not isinstance(start, slice) else start\n",
    "    return itertools.islice(iterable, _slice.start, _slice.stop, _slice.step)\n",
    "    \n",
    "def keys_iloc(self: dict, start: int=None, stop: int=None, step: int=None):\n",
    "    return _dict_view_islice(self, start, stop, step)\n",
    "\n",
    "def values_iloc(self: dict, start: int=None, stop: int=None, step: int=None):\n",
    "    return _dict_view_islice(self.values(), start, stop, step)\n",
    "\n",
    "def items_iloc(self: dict, start: int=None, stop: int=None, step: int=None):\n",
    "    return _dict_view_islice(self.items(), start, stop, step)\n",
    "\n",
    "assert next(keys_iloc(odict, 3)) == 'd'\n",
    "assert next(values_iloc(odict, 3)) == 'D'\n",
    "assert next(items_iloc(odict, 3)) == ('d', 'D')\n",
    "assert list(items_iloc(odict, 0, 4, 2)) == [('a', 'A'), ('c', 'C')]\n",
    "assert list(items_iloc(odict, slice(0, 4, 2))) == [('a', 'A'), ('c', 'C')]\n",
    "\n",
    "# ...\n",
    "\n",
    "def _dict_view_ilookup(obj: dict, start: int=None, stop: int=None, step: int=None):\n",
    "    # This implementation would access the underlying dict array values directly\n",
    "    # (without calling iter() and next() on dict views)\n",
    "    _slice = slice(start, stop, step) if not isinstance(start, slice) else start\n",
    "    return obj._array[_slice]"
   ]
  },
  {
   "cell_type": "markdown",
   "metadata": {},
   "source": [
    "### Support passing slices to methods so that `.keys(1:2)` or `.keys_iloc(1:2)` works\n",
    "\n",
    "- AFAIU, this would require a change to the Python grammar."
   ]
  },
  {
   "cell_type": "markdown",
   "metadata": {},
   "source": [
    "### Add `start`, `stop`, and `step` arguments to `.keys()`, were `start` can optionally be a `slice()`\n",
    "\n",
    "- This would not be break any existing code, but alone would not support normal slice syntax."
   ]
  },
  {
   "cell_type": "code",
   "execution_count": 10,
   "metadata": {},
   "outputs": [],
   "source": [
    "class IlocIndexer:\n",
    "    def __init__(self, obj):\n",
    "        self.obj = obj\n",
    "\n",
    "    def __getitem__(self, obj):\n",
    "        if isinstance(obj, int):\n",
    "            _slice = slice(obj, obj+1)\n",
    "        elif isinstance(obj, slice):\n",
    "            _slice = obj\n",
    "        else:\n",
    "            _slice = slice(obj)\n",
    "        return itertools.islice(self.obj(), _slice.start, _slice.stop, _slice.step)\n",
    "        # return self.obj._array[_slice]\n",
    "\n",
    "\n",
    "class Dict(dict):\n",
    "    def keys(self):\n",
    "        return super().keys()\n",
    "\n",
    "    def values(self):\n",
    "        return super().values()\n",
    "    \n",
    "    def items(self):\n",
    "        return super().items()\n",
    "\n",
    "    def __init__(self, *args, **kwargs):\n",
    "        super().__init__(*args, **kwargs)\n",
    "        self.keys.__func__.iloc = IlocIndexer(self.keys)\n",
    "        self.values.__func__.iloc = IlocIndexer(self.values)\n",
    "        self.items.__func__.iloc = IlocIndexer(self.items)\n",
    "\n",
    "d = Dict.fromkeys('abcd')\n",
    "d = Dict(odict)\n",
    "assert list(d.keys()) == list('abcd')\n",
    "assert list(d.keys.iloc[0]) == list('a')\n",
    "assert list(d.keys.iloc[2:4]) == list('cd')\n",
    "assert list(d.values()) == list('ABCD')\n",
    "assert list(d.values.iloc[0]) == list('A')\n",
    "assert list(d.values.iloc[2:4]) == list('CD')\n",
    "assert list(d.items()) == [(x,x.upper()) for x in 'abcd']\n",
    "assert list(d.items.iloc[0]) == [('a', 'A')]\n",
    "assert list(d.items.iloc[2:4]) == [('c', 'C'), ('d', 'D')]"
   ]
  },
  {
   "cell_type": "markdown",
   "metadata": {},
   "source": [
    "## If you give a mouse a cookie\n",
    "**Once we've added the ability to lookup from (now ordered) dicts by integer-location, what else will people ask for?**\n",
    "\n",
    "Probably features from `pandas.Series`, `pandas.DataFrame`, `pandas.MultiIndex`.\n",
    "- Slices\n",
    "- Multidimensional lookup\n",
    "- Lookup of integer-locations"
   ]
  },
  {
   "cell_type": "markdown",
   "metadata": {},
   "source": [
    "### Slices"
   ]
  },
  {
   "cell_type": "code",
   "execution_count": 11,
   "metadata": {},
   "outputs": [
    {
     "data": {
      "text/html": [
       "<div>\n",
       "<style scoped>\n",
       "    .dataframe tbody tr th:only-of-type {\n",
       "        vertical-align: middle;\n",
       "    }\n",
       "\n",
       "    .dataframe tbody tr th {\n",
       "        vertical-align: top;\n",
       "    }\n",
       "\n",
       "    .dataframe thead th {\n",
       "        text-align: right;\n",
       "    }\n",
       "</style>\n",
       "<table border=\"1\" class=\"dataframe\">\n",
       "  <thead>\n",
       "    <tr style=\"text-align: right;\">\n",
       "      <th></th>\n",
       "      <th>0</th>\n",
       "    </tr>\n",
       "  </thead>\n",
       "  <tbody>\n",
       "    <tr>\n",
       "      <th>a</th>\n",
       "      <td>A</td>\n",
       "    </tr>\n",
       "    <tr>\n",
       "      <th>b</th>\n",
       "      <td>B</td>\n",
       "    </tr>\n",
       "    <tr>\n",
       "      <th>c</th>\n",
       "      <td>C</td>\n",
       "    </tr>\n",
       "    <tr>\n",
       "      <th>d</th>\n",
       "      <td>D</td>\n",
       "    </tr>\n",
       "  </tbody>\n",
       "</table>\n",
       "</div>"
      ],
      "text/plain": [
       "   0\n",
       "a  A\n",
       "b  B\n",
       "c  C\n",
       "d  D"
      ]
     },
     "metadata": {},
     "output_type": "display_data"
    }
   ],
   "source": [
    "df = pd.DataFrame.from_dict(odict, orient='index')\n",
    "display(df)\n",
    "df.columns = [0]\n",
    "assert list(df.iloc[2:4]) == [0]\n",
    "df.columns = ['letter']\n",
    "assert list(df.iloc[2:4]) == ['letter']"
   ]
  },
  {
   "cell_type": "markdown",
   "metadata": {},
   "source": [
    "### Multidimensional lookup: `.iloc[0, 1, 0]`"
   ]
  },
  {
   "cell_type": "code",
   "execution_count": 12,
   "metadata": {},
   "outputs": [
    {
     "data": {
      "text/html": [
       "<div>\n",
       "<style scoped>\n",
       "    .dataframe tbody tr th:only-of-type {\n",
       "        vertical-align: middle;\n",
       "    }\n",
       "\n",
       "    .dataframe tbody tr th {\n",
       "        vertical-align: top;\n",
       "    }\n",
       "\n",
       "    .dataframe thead th {\n",
       "        text-align: right;\n",
       "    }\n",
       "</style>\n",
       "<table border=\"1\" class=\"dataframe\">\n",
       "  <thead>\n",
       "    <tr style=\"text-align: right;\">\n",
       "      <th></th>\n",
       "      <th>letter</th>\n",
       "    </tr>\n",
       "  </thead>\n",
       "  <tbody>\n",
       "    <tr>\n",
       "      <th>a</th>\n",
       "      <td>A</td>\n",
       "    </tr>\n",
       "    <tr>\n",
       "      <th>b</th>\n",
       "      <td>B</td>\n",
       "    </tr>\n",
       "    <tr>\n",
       "      <th>c</th>\n",
       "      <td>C</td>\n",
       "    </tr>\n",
       "    <tr>\n",
       "      <th>d</th>\n",
       "      <td>D</td>\n",
       "    </tr>\n",
       "  </tbody>\n",
       "</table>\n",
       "</div>"
      ],
      "text/plain": [
       "  letter\n",
       "a      A\n",
       "b      B\n",
       "c      C\n",
       "d      D"
      ]
     },
     "metadata": {},
     "output_type": "display_data"
    },
    {
     "data": {
      "text/html": [
       "<div>\n",
       "<style scoped>\n",
       "    .dataframe tbody tr th:only-of-type {\n",
       "        vertical-align: middle;\n",
       "    }\n",
       "\n",
       "    .dataframe tbody tr th {\n",
       "        vertical-align: top;\n",
       "    }\n",
       "\n",
       "    .dataframe thead th {\n",
       "        text-align: right;\n",
       "    }\n",
       "</style>\n",
       "<table border=\"1\" class=\"dataframe\">\n",
       "  <thead>\n",
       "    <tr style=\"text-align: right;\">\n",
       "      <th></th>\n",
       "      <th>a</th>\n",
       "      <th>b</th>\n",
       "      <th>c</th>\n",
       "      <th>d</th>\n",
       "    </tr>\n",
       "  </thead>\n",
       "  <tbody>\n",
       "    <tr>\n",
       "      <th>letter</th>\n",
       "      <td>A</td>\n",
       "      <td>B</td>\n",
       "      <td>C</td>\n",
       "      <td>D</td>\n",
       "    </tr>\n",
       "  </tbody>\n",
       "</table>\n",
       "</div>"
      ],
      "text/plain": [
       "        a  b  c  d\n",
       "letter  A  B  C  D"
      ]
     },
     "metadata": {},
     "output_type": "display_data"
    }
   ],
   "source": [
    "df = pd.DataFrame.from_dict(odict, orient='index')\n",
    "df.columns = ['letter']\n",
    "display(df)\n",
    "assert df.iloc[2, 0] == 'C'\n",
    "assert df.iloc[3, 0] == 'D'\n",
    "assert list(df.iloc[2:4, 0]) == ['C', 'D']\n",
    "\n",
    "df = df.T\n",
    "display(df)\n",
    "assert list(df.iloc[0, 2:4]) == ['C', 'D']"
   ]
  },
  {
   "cell_type": "markdown",
   "metadata": {},
   "source": [
    "### Lookup of integer-locations"
   ]
  },
  {
   "cell_type": "markdown",
   "metadata": {},
   "source": [
    "#### Python `list.index(value)`"
   ]
  },
  {
   "cell_type": "code",
   "execution_count": 13,
   "metadata": {},
   "outputs": [],
   "source": [
    "alist = list('abcd')\n",
    "assert alist.index('d') == 3"
   ]
  },
  {
   "cell_type": "markdown",
   "metadata": {},
   "source": [
    "#### Python `dict.get(key, default=None)`"
   ]
  },
  {
   "cell_type": "code",
   "execution_count": 14,
   "metadata": {},
   "outputs": [],
   "source": [
    "assert odict.get('d') == 'D' "
   ]
  },
  {
   "cell_type": "markdown",
   "metadata": {},
   "source": [
    "Something like this would sort next to `.get()` when tab-completing:\n",
    "```python\n",
    "assert odict.getkeypos('d') == 3\n",
    "```"
   ]
  },
  {
   "cell_type": "markdown",
   "metadata": {},
   "source": [
    "#### Pandas "
   ]
  },
  {
   "cell_type": "code",
   "execution_count": 15,
   "metadata": {},
   "outputs": [
    {
     "data": {
      "text/html": [
       "<div>\n",
       "<style scoped>\n",
       "    .dataframe tbody tr th:only-of-type {\n",
       "        vertical-align: middle;\n",
       "    }\n",
       "\n",
       "    .dataframe tbody tr th {\n",
       "        vertical-align: top;\n",
       "    }\n",
       "\n",
       "    .dataframe thead th {\n",
       "        text-align: right;\n",
       "    }\n",
       "</style>\n",
       "<table border=\"1\" class=\"dataframe\">\n",
       "  <thead>\n",
       "    <tr style=\"text-align: right;\">\n",
       "      <th></th>\n",
       "      <th>0</th>\n",
       "    </tr>\n",
       "  </thead>\n",
       "  <tbody>\n",
       "    <tr>\n",
       "      <th>a</th>\n",
       "      <td>A</td>\n",
       "    </tr>\n",
       "    <tr>\n",
       "      <th>b</th>\n",
       "      <td>B</td>\n",
       "    </tr>\n",
       "    <tr>\n",
       "      <th>c</th>\n",
       "      <td>C</td>\n",
       "    </tr>\n",
       "    <tr>\n",
       "      <th>d</th>\n",
       "      <td>D</td>\n",
       "    </tr>\n",
       "  </tbody>\n",
       "</table>\n",
       "</div>"
      ],
      "text/plain": [
       "   0\n",
       "a  A\n",
       "b  B\n",
       "c  C\n",
       "d  D"
      ]
     },
     "metadata": {},
     "output_type": "display_data"
    }
   ],
   "source": [
    "df = pd.DataFrame.from_dict(odict, orient='index')\n",
    "display(df)\n",
    "\n",
    "# Lookup ordinal integer-location by index value:\n",
    "assert df.index.get_loc('d') == 3\n",
    "assert df.iloc[df.index.get_loc('d')].tolist() == ['D']\n",
    "\n",
    "# Lookup index values by column value:\n",
    "assert df[df[0] == 'D'].index.tolist() == ['d']\n",
    "df.columns = ['letters']\n",
    "assert df[df['letters'] == 'D'].index.tolist() == ['d'] == \\\n",
    "    df.query('letters == \"D\"').index.tolist()\n",
    "\n",
    "# Lookup ordinal integer-location(s) of value:\n",
    "assert [df.index.get_loc(idxval) for idxval in df[df['letters'] == 'D'].index.tolist()] == [3]\n",
    "\n",
    "import numpy as np\n",
    "assert list(np.where(df['letters'].values == 'D')[0]) == [3]"
   ]
  },
  {
   "cell_type": "code",
   "execution_count": 16,
   "metadata": {},
   "outputs": [],
   "source": [
    "assert \\\n",
    "    df[df['letters'].eq('D')].index == \\\n",
    "    df.index[df['letters'].eq('D')] == \\\n",
    "    df.query('letters == \"D\"').index == \\\n",
    "    df[df['letters'] == 'D'].index == \\\n",
    "    df.eval('x = letters == \"D\"').query(\"x\").index"
   ]
  },
  {
   "cell_type": "markdown",
   "metadata": {},
   "source": [
    "### Why would I use Series or DataFrame here instead of dict?\n",
    "**How do and why would I refactor code to use `Series` or `DataFrame` instead of `dict`?**\n",
    "- Why:\n",
    "  - performance & scalability (Cython, profiling, dask.distributed scales the DataFrame API to multiple processes and/or multiple machines with datasets larger than can fit into RAM)\n",
    "  - Maintainability & security: nobody wants to figure out your poor-man's in-memory datastore implemented with only the standard library; months later you realize you need to optimize a query and something like `df.query` would take your team years to get partially working, so you just dump everything into a database and add SQL vulnerabilities and a whole dict/object layer, and all you needed was a join and merge that you *could* just do with coreutils join and merge (but that would lose type safety and unescaped newlines would then be as dangerous as unparametrized SQL queries). And then it's time to write docs for what we did here.\n",
    "  - De/serialization (`to_numpy`, `to_parquet`, `to_json`, `to_csv`, `to_html`, `to_markdown`)\n",
    "- How:\n",
    "  - Add a dependency on an external library that needs to be compiled or installed and kept upgraded.\n",
    "  - Load the data into a DataFrame\n",
    "  - Read the docs and use the API; which supports lookup by value, by integer-position (`.iloc`), by complex chained queries, etc."
   ]
  },
  {
   "cell_type": "markdown",
   "metadata": {},
   "source": [
    "# Pandas DataFrame reference\n",
    "- There are many excellent Pandas tutorials.\n",
    "- There was a docs sprint.\n",
    "- `Series` have an `.index` and no `.columns` (only one column; more like `dict`)\n",
    "- `DataFrames` have an `.index` and a `.columns`\n",
    "- There are a number of ways to load a dict into a DataFrame and lookup values:"
   ]
  },
  {
   "cell_type": "code",
   "execution_count": 17,
   "metadata": {},
   "outputs": [
    {
     "data": {
      "text/html": [
       "<div>\n",
       "<style scoped>\n",
       "    .dataframe tbody tr th:only-of-type {\n",
       "        vertical-align: middle;\n",
       "    }\n",
       "\n",
       "    .dataframe tbody tr th {\n",
       "        vertical-align: top;\n",
       "    }\n",
       "\n",
       "    .dataframe thead th {\n",
       "        text-align: right;\n",
       "    }\n",
       "</style>\n",
       "<table border=\"1\" class=\"dataframe\">\n",
       "  <thead>\n",
       "    <tr style=\"text-align: right;\">\n",
       "      <th></th>\n",
       "      <th>a</th>\n",
       "      <th>b</th>\n",
       "      <th>c</th>\n",
       "      <th>d</th>\n",
       "    </tr>\n",
       "  </thead>\n",
       "  <tbody>\n",
       "    <tr>\n",
       "      <th>0</th>\n",
       "      <td>A</td>\n",
       "      <td>B</td>\n",
       "      <td>C</td>\n",
       "      <td>D</td>\n",
       "    </tr>\n",
       "  </tbody>\n",
       "</table>\n",
       "</div>"
      ],
      "text/plain": [
       "   a  b  c  d\n",
       "0  A  B  C  D"
      ]
     },
     "metadata": {},
     "output_type": "display_data"
    }
   ],
   "source": [
    "df = pd.DataFrame.from_records([odict])\n",
    "display(df)\n",
    "assert list(df.index) == [0]\n",
    "assert list(df.columns) == list('abcd')\n",
    "assert list(df.iloc[0]) == list('ABCD')\n",
    "assert list(df.iloc[0].index) == list(df.columns) == list('abcd')\n",
    "assert list(df.iloc[0]) == list(df.loc[0])\n",
    "assert list(df.loc[0].index) == list(df.columns) == list('abcd')\n",
    "assert list(df.loc[0]) == list('ABCD')\n",
    "assert df.iloc[0]['a'] == 'A' == df.loc[0]['a']"
   ]
  },
  {
   "cell_type": "code",
   "execution_count": 18,
   "metadata": {
    "lines_to_next_cell": 2
   },
   "outputs": [
    {
     "data": {
      "text/html": [
       "<div>\n",
       "<style scoped>\n",
       "    .dataframe tbody tr th:only-of-type {\n",
       "        vertical-align: middle;\n",
       "    }\n",
       "\n",
       "    .dataframe tbody tr th {\n",
       "        vertical-align: top;\n",
       "    }\n",
       "\n",
       "    .dataframe thead th {\n",
       "        text-align: right;\n",
       "    }\n",
       "</style>\n",
       "<table border=\"1\" class=\"dataframe\">\n",
       "  <thead>\n",
       "    <tr style=\"text-align: right;\">\n",
       "      <th></th>\n",
       "      <th>0</th>\n",
       "      <th>1</th>\n",
       "    </tr>\n",
       "  </thead>\n",
       "  <tbody>\n",
       "    <tr>\n",
       "      <th>0</th>\n",
       "      <td>a</td>\n",
       "      <td>A</td>\n",
       "    </tr>\n",
       "    <tr>\n",
       "      <th>1</th>\n",
       "      <td>b</td>\n",
       "      <td>B</td>\n",
       "    </tr>\n",
       "    <tr>\n",
       "      <th>2</th>\n",
       "      <td>c</td>\n",
       "      <td>C</td>\n",
       "    </tr>\n",
       "    <tr>\n",
       "      <th>3</th>\n",
       "      <td>d</td>\n",
       "      <td>D</td>\n",
       "    </tr>\n",
       "  </tbody>\n",
       "</table>\n",
       "</div>"
      ],
      "text/plain": [
       "   0  1\n",
       "0  a  A\n",
       "1  b  B\n",
       "2  c  C\n",
       "3  d  D"
      ]
     },
     "metadata": {},
     "output_type": "display_data"
    }
   ],
   "source": [
    "df = pd.DataFrame.from_records(list(odict.items()))\n",
    "display(df)\n",
    "assert list(df.index) == [0, 1, 2, 3]\n",
    "assert list(df.columns) == [0, 1]\n",
    "assert list(df.iloc[0]) == list(df.loc[0])\n",
    "assert list(df.iloc[0]) == ['a', 'A']\n",
    "assert list(df.iloc[0].index) == list(df.columns) == [0, 1]"
   ]
  },
  {
   "cell_type": "code",
   "execution_count": 19,
   "metadata": {},
   "outputs": [],
   "source": [
    "with pytest.raises(ValueError):\n",
    "    df = pd.DataFrame.from_dict(odict)"
   ]
  },
  {
   "cell_type": "code",
   "execution_count": 20,
   "metadata": {},
   "outputs": [
    {
     "data": {
      "text/html": [
       "<div>\n",
       "<style scoped>\n",
       "    .dataframe tbody tr th:only-of-type {\n",
       "        vertical-align: middle;\n",
       "    }\n",
       "\n",
       "    .dataframe tbody tr th {\n",
       "        vertical-align: top;\n",
       "    }\n",
       "\n",
       "    .dataframe thead th {\n",
       "        text-align: right;\n",
       "    }\n",
       "</style>\n",
       "<table border=\"1\" class=\"dataframe\">\n",
       "  <thead>\n",
       "    <tr style=\"text-align: right;\">\n",
       "      <th></th>\n",
       "      <th>0</th>\n",
       "      <th>1</th>\n",
       "    </tr>\n",
       "  </thead>\n",
       "  <tbody>\n",
       "    <tr>\n",
       "      <th>0</th>\n",
       "      <td>a</td>\n",
       "      <td>A</td>\n",
       "    </tr>\n",
       "    <tr>\n",
       "      <th>1</th>\n",
       "      <td>b</td>\n",
       "      <td>B</td>\n",
       "    </tr>\n",
       "    <tr>\n",
       "      <th>2</th>\n",
       "      <td>c</td>\n",
       "      <td>C</td>\n",
       "    </tr>\n",
       "    <tr>\n",
       "      <th>3</th>\n",
       "      <td>d</td>\n",
       "      <td>D</td>\n",
       "    </tr>\n",
       "  </tbody>\n",
       "</table>\n",
       "</div>"
      ],
      "text/plain": [
       "   0  1\n",
       "0  a  A\n",
       "1  b  B\n",
       "2  c  C\n",
       "3  d  D"
      ]
     },
     "metadata": {},
     "output_type": "display_data"
    }
   ],
   "source": [
    "df = pd.DataFrame.from_dict(odict.items())\n",
    "display(df)\n",
    "assert list(df.index) == [0, 1, 2, 3]\n",
    "assert list(df.columns) == [0, 1]\n",
    "assert df[0][0] == 'a' == df.iloc[0].iloc[0]"
   ]
  },
  {
   "cell_type": "code",
   "execution_count": 21,
   "metadata": {},
   "outputs": [
    {
     "data": {
      "text/html": [
       "<div>\n",
       "<style scoped>\n",
       "    .dataframe tbody tr th:only-of-type {\n",
       "        vertical-align: middle;\n",
       "    }\n",
       "\n",
       "    .dataframe tbody tr th {\n",
       "        vertical-align: top;\n",
       "    }\n",
       "\n",
       "    .dataframe thead th {\n",
       "        text-align: right;\n",
       "    }\n",
       "</style>\n",
       "<table border=\"1\" class=\"dataframe\">\n",
       "  <thead>\n",
       "    <tr style=\"text-align: right;\">\n",
       "      <th></th>\n",
       "      <th>0</th>\n",
       "    </tr>\n",
       "  </thead>\n",
       "  <tbody>\n",
       "    <tr>\n",
       "      <th>a</th>\n",
       "      <td>A</td>\n",
       "    </tr>\n",
       "    <tr>\n",
       "      <th>b</th>\n",
       "      <td>B</td>\n",
       "    </tr>\n",
       "    <tr>\n",
       "      <th>c</th>\n",
       "      <td>C</td>\n",
       "    </tr>\n",
       "    <tr>\n",
       "      <th>d</th>\n",
       "      <td>D</td>\n",
       "    </tr>\n",
       "  </tbody>\n",
       "</table>\n",
       "</div>"
      ],
      "text/plain": [
       "   0\n",
       "a  A\n",
       "b  B\n",
       "c  C\n",
       "d  D"
      ]
     },
     "metadata": {},
     "output_type": "display_data"
    }
   ],
   "source": [
    "df = pd.DataFrame.from_dict(odict, orient='index')\n",
    "display(df)\n",
    "assert list(df.index) == list('abcd')\n",
    "assert list(df.columns) == [0]\n",
    "assert df.loc['a'][0] == 'A' == df.iloc[0][0]"
   ]
  },
  {
   "cell_type": "code",
   "execution_count": 22,
   "metadata": {},
   "outputs": [
    {
     "data": {
      "text/html": [
       "<div>\n",
       "<style scoped>\n",
       "    .dataframe tbody tr th:only-of-type {\n",
       "        vertical-align: middle;\n",
       "    }\n",
       "\n",
       "    .dataframe tbody tr th {\n",
       "        vertical-align: top;\n",
       "    }\n",
       "\n",
       "    .dataframe thead th {\n",
       "        text-align: right;\n",
       "    }\n",
       "</style>\n",
       "<table border=\"1\" class=\"dataframe\">\n",
       "  <thead>\n",
       "    <tr style=\"text-align: right;\">\n",
       "      <th></th>\n",
       "      <th>letter</th>\n",
       "    </tr>\n",
       "  </thead>\n",
       "  <tbody>\n",
       "    <tr>\n",
       "      <th>a</th>\n",
       "      <td>A</td>\n",
       "    </tr>\n",
       "    <tr>\n",
       "      <th>b</th>\n",
       "      <td>B</td>\n",
       "    </tr>\n",
       "    <tr>\n",
       "      <th>c</th>\n",
       "      <td>C</td>\n",
       "    </tr>\n",
       "    <tr>\n",
       "      <th>d</th>\n",
       "      <td>D</td>\n",
       "    </tr>\n",
       "  </tbody>\n",
       "</table>\n",
       "</div>"
      ],
      "text/plain": [
       "  letter\n",
       "a      A\n",
       "b      B\n",
       "c      C\n",
       "d      D"
      ]
     },
     "metadata": {},
     "output_type": "display_data"
    }
   ],
   "source": [
    "df.columns = ['letter']\n",
    "display(df)\n",
    "assert df.loc['a']['letter'] == 'A' == df.iloc[0][0] == df.loc['a'].iloc[0] == df.iloc[0].loc['letter']"
   ]
  },
  {
   "cell_type": "code",
   "execution_count": 23,
   "metadata": {},
   "outputs": [
    {
     "data": {
      "text/html": [
       "<div>\n",
       "<style scoped>\n",
       "    .dataframe tbody tr th:only-of-type {\n",
       "        vertical-align: middle;\n",
       "    }\n",
       "\n",
       "    .dataframe tbody tr th {\n",
       "        vertical-align: top;\n",
       "    }\n",
       "\n",
       "    .dataframe thead th {\n",
       "        text-align: right;\n",
       "    }\n",
       "</style>\n",
       "<table border=\"1\" class=\"dataframe\">\n",
       "  <thead>\n",
       "    <tr style=\"text-align: right;\">\n",
       "      <th></th>\n",
       "      <th>letter</th>\n",
       "    </tr>\n",
       "  </thead>\n",
       "  <tbody>\n",
       "    <tr>\n",
       "      <th>red</th>\n",
       "      <td>A</td>\n",
       "    </tr>\n",
       "    <tr>\n",
       "      <th>green</th>\n",
       "      <td>B</td>\n",
       "    </tr>\n",
       "    <tr>\n",
       "      <th>blue</th>\n",
       "      <td>C</td>\n",
       "    </tr>\n",
       "    <tr>\n",
       "      <th>orange</th>\n",
       "      <td>D</td>\n",
       "    </tr>\n",
       "  </tbody>\n",
       "</table>\n",
       "</div>"
      ],
      "text/plain": [
       "       letter\n",
       "red         A\n",
       "green       B\n",
       "blue        C\n",
       "orange      D"
      ]
     },
     "metadata": {},
     "output_type": "display_data"
    }
   ],
   "source": [
    "df.index = ['red', 'green', 'blue', 'orange']\n",
    "display(df)"
   ]
  },
  {
   "cell_type": "code",
   "execution_count": 24,
   "metadata": {},
   "outputs": [
    {
     "data": {
      "text/html": [
       "<div>\n",
       "<style scoped>\n",
       "    .dataframe tbody tr th:only-of-type {\n",
       "        vertical-align: middle;\n",
       "    }\n",
       "\n",
       "    .dataframe tbody tr th {\n",
       "        vertical-align: top;\n",
       "    }\n",
       "\n",
       "    .dataframe thead th {\n",
       "        text-align: right;\n",
       "    }\n",
       "</style>\n",
       "<table border=\"1\" class=\"dataframe\">\n",
       "  <thead>\n",
       "    <tr style=\"text-align: right;\">\n",
       "      <th></th>\n",
       "      <th>letter</th>\n",
       "    </tr>\n",
       "  </thead>\n",
       "  <tbody>\n",
       "    <tr>\n",
       "      <th>red</th>\n",
       "      <td>{'a': None, 'b': None, 'c': None}</td>\n",
       "    </tr>\n",
       "    <tr>\n",
       "      <th>green</th>\n",
       "      <td>B</td>\n",
       "    </tr>\n",
       "    <tr>\n",
       "      <th>blue</th>\n",
       "      <td>C</td>\n",
       "    </tr>\n",
       "    <tr>\n",
       "      <th>orange</th>\n",
       "      <td>D</td>\n",
       "    </tr>\n",
       "  </tbody>\n",
       "</table>\n",
       "</div>"
      ],
      "text/plain": [
       "                                   letter\n",
       "red     {'a': None, 'b': None, 'c': None}\n",
       "green                                   B\n",
       "blue                                    C\n",
       "orange                                  D"
      ]
     },
     "metadata": {},
     "output_type": "display_data"
    }
   ],
   "source": [
    "assert type(df.iloc[0][0]) == str\n",
    "df.iloc[0][0] = dict.fromkeys('abc')\n",
    "assert type(df.iloc[0][0]) == dict\n",
    "display(df)"
   ]
  }
 ],
 "metadata": {
  "jupytext": {
   "formats": "ipynb,py:light,md"
  },
  "kernelspec": {
   "display_name": "Python 3",
   "language": "python",
   "name": "python3"
  },
  "language_info": {
   "codemirror_mode": {
    "name": "ipython",
    "version": 3
   },
   "file_extension": ".py",
   "mimetype": "text/x-python",
   "name": "python",
   "nbconvert_exporter": "python",
   "pygments_lexer": "ipython3",
   "version": "3.8.5"
  },
  "toc-autonumbering": false,
  "toc-showcode": false,
  "toc-showmarkdowntxt": false,
  "toc-showtags": false
 },
 "nbformat": 4,
 "nbformat_minor": 4
}
